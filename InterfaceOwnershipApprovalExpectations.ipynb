{
 "cells": [
  {
   "cell_type": "markdown",
   "metadata": {},
   "source": [
    "# Interface Ownership-Approval Expectations:"
   ]
  },
  {
   "cell_type": "markdown",
   "metadata": {},
   "source": [
    "## Who Owns What?\n",
    "\n",
    "Each Module Lead has a slide in the `Wave 5 Architecture Plan.ppt` slide deck that describes in brief detail what API calls they are HOSTING within their module. The arrows in and out of a given module will be owned by both parties, however the first among equals will fall to the source of trasferred information if any disputes seem to be not easily resolved. The bias will be placed on the source controller of information. \n",
    "\n",
    "*FOR EXAMPLE:* The Config Service touches most other modules and has those API interactions where it is the source of Config Information. Therefore, if there is a dispute, the decision gets to be made by the Config Service Lead."
   ]
  },
  {
   "cell_type": "markdown",
   "metadata": {},
   "source": [
    "## What do I have to do?\n",
    "\n",
    "As a module lead, it is your responsibility to not only ensure the functionality of your module, but the interaction points you are hosting for the remaining modules of Wave. That being said, initial module testing is expected to include not only a test of API requests hosted, but a usable document that has the validated API calls and how they were made/tested prior to documenting Interface Documents within SVN that need to be approved by other leads using your hosted APIs."
   ]
  },
  {
   "cell_type": "markdown",
   "metadata": {},
   "source": [
    "## What is getting 'Approved'?\n",
    "\n",
    "There needs to be a Jupyter notebook document in SVN named the `<Module> Interface Contract` where the module lead records in full detail the following:\n",
    "\n",
    "- All urls used to host an API request as well as explicit possibilities and examples for variables passed within the url string, the headers, the body of the request, etc.\n",
    "- Formatting of any portion of the `http` request, e.g. the BODY, including expectations/demands made of the requesters with respect to formatting of various components.\n",
    "- Behavior that a requestor can expect given a specific call with a specific format of the body of a request.\n",
    "- List of Leads of adjacent Modules in the Wave Architecture who need to be involved in using API services you host.\n",
    "\n",
    "This document is the calling card that will be used by any other module to make API requests to that specific module. Once committed, there needs to be a review and approval email kicked off to all adjacent modules. This document should be clear, concise, and easily reviewed and include a section at the end listing Module Leads who can sign off their approval to be recorded in the document proper along with time approved and version of API being approved."
   ]
  },
  {
   "cell_type": "markdown",
   "metadata": {},
   "source": [
    "## Sing it again, SAM!\n",
    "\n",
    "\n",
    "### Responsibility of Leads\n",
    "\n",
    "- Test all API requests hosted by your module(s)\n",
    "- Generate usable document recording testing and results for other module leads\n",
    "- Generate `<Module> Interface Contract` as described above\n",
    "- Email your colleagues and ensure they are aware of your API expectations"
   ]
  },
  {
   "cell_type": "code",
   "execution_count": null,
   "metadata": {},
   "outputs": [],
   "source": []
  }
 ],
 "metadata": {
  "kernelspec": {
   "display_name": "Python 3",
   "language": "python",
   "name": "python3"
  },
  "language_info": {
   "codemirror_mode": {
    "name": "ipython",
    "version": 3
   },
   "file_extension": ".py",
   "mimetype": "text/x-python",
   "name": "python",
   "nbconvert_exporter": "python",
   "pygments_lexer": "ipython3",
   "version": "3.7.5"
  }
 },
 "nbformat": 4,
 "nbformat_minor": 4
}
