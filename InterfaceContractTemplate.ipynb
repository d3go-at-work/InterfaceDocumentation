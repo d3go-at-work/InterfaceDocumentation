{
 "cells": [
  {
   "cell_type": "markdown",
   "metadata": {},
   "source": [
    "# Interface Doumentation and Contract <Template: Insert your module  name here!>\n",
    "\n",
    "\n",
    "\n",
    "### Aside on this tool:\n",
    "\n",
    "<span style=\"color:red;\">This is a Jupyter Notebook. If you are running this notebook as opposed to just reading it, Click [HERE](https://jupyter-notebook.readthedocs.io/en/stable/examples/Notebook/Notebook%20Basics.html) for a bit of documentation on what these objects are and basics of how to use one.</span> \n",
    "\n",
    "Here is my rundown: \n",
    "\n",
    "- Install Python 3.x (From here you can simply open these notebooks in VS Code assuming you have the Python Extension from Microsoft installed. Otherwise you can use the instructions below. Neither is better than the other in the absolute.)\n",
    "\n",
    "- Use pip or pip3 to install jupyter and jupyter lab with the command line by entering `pip install jupyter jupyterlab` or `pip3 install jupyter jupyterlab`\n",
    "\n",
    "- Once this is done, navigate to your favorite directory or the one containing this document and enter the command `jupyter notebook` or `jupyter lab`\n",
    "\n",
    "- Then select a notebook to open or create a new one\n",
    "\n",
    "- Once in a notebook select a cell to be either code or Markdown. \n",
    "\n",
    "- I use Markdown for text and documentation.\n",
    "\n",
    "- I use code for running simple snippets to either test or validate various things. This notebook will be build around documenting API services that are hosted by your module, giving explicit examples, and having a place that you can run simple checks to validate that your hosted API is doing what you expect it to be doing.\n",
    "\n",
    "- Since the Markdown cells are called markdown, you can expect them to behave as such.\n",
    "\n",
    "- Lists and tables and a formatting cheatsheet can be found [HERE](https://www.markdownguide.org/cheat-sheet/)\n",
    "\n",
    "- Depending on where you run the notebook, you'll need to click a run button or use the hot keys `Shift-Ret( or Shift-Enter if you prefer)` to render the Markdown or to run the code in a code cell.\n",
    "\n"
   ]
  },
  {
   "cell_type": "markdown",
   "metadata": {},
   "source": [
    "### Describe what API calls  your module is hosting\n",
    "\n",
    "- POST api call with url `http:127.0.0.1:8008/v1/mymodule/iscool`\n",
    "    - Here is an example of that API call's headers\n",
    "    - Here is an example of that API call's body\n",
    "    - Here is a description of the behaviour you can expect from my service with the above api call. \n",
    "    - Add more various examples as needed especially if call behavior of your service depends on the body or headers of the requests sent.\n",
    "\n",
    "\n",
    "- GET api call with url etc.\n",
    "\n",
    "\n",
    "<span style=\"color:red;\"> **ALL API VARIATIONS SHOULD BE DESCRIBED HERE**</span>"
   ]
  },
  {
   "cell_type": "markdown",
   "metadata": {},
   "source": [
    "### Example code and behavior around that first API call using the (YOUR FAVORITE) method:\n",
    "\n",
    "Since this notebook is running Python, we will first install if necessary and import a few useful packages"
   ]
  },
  {
   "cell_type": "code",
   "execution_count": 3,
   "metadata": {},
   "outputs": [
    {
     "name": "stdout",
     "output_type": "stream",
     "text": [
      "Requirement already satisfied: requests in /home/douglasortego/.local/lib/python3.7/site-packages (2.22.0)\n",
      "Requirement already satisfied: idna<2.9,>=2.5 in /home/douglasortego/.local/lib/python3.7/site-packages (from requests) (2.8)\n",
      "Requirement already satisfied: urllib3!=1.25.0,!=1.25.1,<1.26,>=1.21.1 in /home/douglasortego/.local/lib/python3.7/site-packages (from requests) (1.25.6)\n",
      "Requirement already satisfied: certifi>=2017.4.17 in /home/douglasortego/.local/lib/python3.7/site-packages (from requests) (2019.9.11)\n",
      "Requirement already satisfied: chardet<3.1.0,>=3.0.2 in /home/douglasortego/.local/lib/python3.7/site-packages (from requests) (3.0.4)\n"
     ]
    }
   ],
   "source": [
    "!pip3 install requests"
   ]
  },
  {
   "cell_type": "code",
   "execution_count": 1,
   "metadata": {},
   "outputs": [],
   "source": [
    "import requests\n",
    "from pprint import pprint"
   ]
  },
  {
   "cell_type": "markdown",
   "metadata": {},
   "source": [
    "Our first example expects a body like so..."
   ]
  },
  {
   "cell_type": "code",
   "execution_count": 4,
   "metadata": {},
   "outputs": [],
   "source": [
    "body = {\n",
    "    \"key part of body\": \"value part of the body\"\n",
    "}"
   ]
  },
  {
   "cell_type": "markdown",
   "metadata": {},
   "source": [
    "and headers like so...\n"
   ]
  },
  {
   "cell_type": "code",
   "execution_count": 5,
   "metadata": {},
   "outputs": [],
   "source": [
    "headers = {\n",
    "    \"key part1 of header\" : \"value1 part of header\",\n",
    "    \"key part2 of header\" : \"value2 part of header\"\n",
    "}"
   ]
  },
  {
   "cell_type": "markdown",
   "metadata": {},
   "source": [
    "The requests usage and formatting can be found at [REAL PYTHON](https://www.realpython.com/python-requests/) or [HERE](https://requests.kennethreitz.org/en/master/) for the official documentation otherwise known as 'HTTP for Humans'."
   ]
  },
  {
   "cell_type": "code",
   "execution_count": 6,
   "metadata": {},
   "outputs": [
    {
     "data": {
      "text/plain": [
       "4"
      ]
     },
     "execution_count": 6,
     "metadata": {},
     "output_type": "execute_result"
    }
   ],
   "source": [
    "resp = requests.post('http://127.0.0.1:8008/v1/mymodule/iscool', json = body, headers = headers, params = ...) # This will return an error, but body, headers and params are a few of the keyword parameters that can be used in a request"
   ]
  },
  {
   "cell_type": "markdown",
   "metadata": {},
   "source": [
    "You can get various things using the variable `resp`\n",
    "- `resp` will render and status code\n",
    "- `resp.json()` will render the response body as a json, a useful thing to do is `pprint.resp.json()` which will make the JSON print out nicely in a way that is easier to read.\n",
    "- `resp.text` will render the response body as text\n",
    "\n",
    "There are very many other calls and options for various calls the more useful of which are described at the Real Python link above and [HERE](https://www.realpython.com/python-requests/)"
   ]
  },
  {
   "cell_type": "markdown",
   "metadata": {},
   "source": [
    "A repeat of the above format. Under each url for a request, various types of requests documented and tested along with examples and explanation of behavior which are accounted for in the design regarding body, headers, etc. of the requests being sent."
   ]
  },
  {
   "cell_type": "code",
   "execution_count": null,
   "metadata": {},
   "outputs": [],
   "source": []
  },
  {
   "cell_type": "code",
   "execution_count": null,
   "metadata": {},
   "outputs": [],
   "source": []
  },
  {
   "cell_type": "code",
   "execution_count": null,
   "metadata": {},
   "outputs": [],
   "source": []
  },
  {
   "cell_type": "code",
   "execution_count": null,
   "metadata": {},
   "outputs": [],
   "source": []
  },
  {
   "cell_type": "markdown",
   "metadata": {},
   "source": [
    "## Review/Approval Log:\n",
    "\n",
    "| Adjacent Modules  | (Current Lead/DateReviewed) | Approved?  |(Current Lead/DateReviewed) | Approved?  |(Current Lead/DateReviewed) | Approved?  |(Current Lead/DateReviewed) | Approved?  |\n",
    "| :-------------: |:-------------:|:-----:|:-------------:|:-----:|:-------------:|:-----:|:-------------:|:-----:|\n",
    "| Some Service   |   |  |   |  |   |  |   |  |\n",
    "| Another Service   |       |    |   |  |   |  |   |  |\n",
    "| yet ANOTHER Service |       |     |   |  |   |  |   |  |\n"
   ]
  },
  {
   "cell_type": "markdown",
   "metadata": {},
   "source": [
    "Reviewers should feel free to insert a cell in the document and add comments and questions as necessary throughout the review process. (Please indicate who says what in these comments and questions so that further conversations are easy to initiate if necessary.)"
   ]
  },
  {
   "cell_type": "markdown",
   "metadata": {},
   "source": [
    "As a tool, <span style=\"color:red;\">THE BEST WAY I CAN IMAGINE USING THIS DOCUMENT</span> is to simply be able to start up the service being documented, and then run every cell in the document to validate the API hosting is functioning as intended."
   ]
  },
  {
   "cell_type": "code",
   "execution_count": null,
   "metadata": {},
   "outputs": [],
   "source": []
  },
  {
   "cell_type": "code",
   "execution_count": null,
   "metadata": {},
   "outputs": [],
   "source": []
  }
 ],
 "metadata": {
  "file_extension": ".py",
  "kernelspec": {
   "display_name": "Python 3",
   "language": "python",
   "name": "python3"
  },
  "language_info": {
   "codemirror_mode": {
    "name": "ipython",
    "version": 3
   },
   "file_extension": ".py",
   "mimetype": "text/x-python",
   "name": "python",
   "nbconvert_exporter": "python",
   "pygments_lexer": "ipython3",
   "version": "3.7.5"
  },
  "mimetype": "text/x-python",
  "name": "python",
  "npconvert_exporter": "python",
  "pygments_lexer": "ipython3",
  "version": 3
 },
 "nbformat": 4,
 "nbformat_minor": 4
}
